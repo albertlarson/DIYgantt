{
 "cells": [
  {
   "cell_type": "code",
   "execution_count": 2,
   "metadata": {
    "id": "4PHKfpxNgMrh"
   },
   "outputs": [],
   "source": [
    "import pandas as pd\n",
    "import plotly\n",
    "import plotly.express as px\n",
    "\n",
    "import warnings\n",
    "warnings.simplefilter(\"ignore\", category=FutureWarning)"
   ]
  },
  {
   "cell_type": "code",
   "execution_count": 6,
   "metadata": {
    "colab": {
     "base_uri": "https://localhost:8080/",
     "height": 36
    },
    "id": "qtWq5yS2XkUV",
    "outputId": "5528e82c-255d-4918-9584-1463d5fd3eeb"
   },
   "outputs": [
    {
     "data": {
      "text/plain": [
       "'Gantt-jan2023_desk.html'"
      ]
     },
     "execution_count": 6,
     "metadata": {},
     "output_type": "execute_result"
    }
   ],
   "source": [
    "df = pd.read_excel('https://github.com/albertlarson/diygantt/raw/main/Gantt.xlsx')\n",
    "\n",
    "# Read Dataframe from Excel file\n",
    "\n",
    "# Assign Columns to variables\n",
    "tasks = df['Task']\n",
    "start = df['Start']\n",
    "finish = df['Finish']\n",
    "complete = df['Completion %' ]\n",
    "\n",
    "# Create Gantt Chart\n",
    "fig = px.timeline(df, x_start=start, x_end=finish, y=tasks, color=complete, title='Larson Sample SST Project',color_continuous_scale='rainbow_r')\n",
    "\n",
    "# Update/Change Layout\n",
    "fig.update_yaxes(autorange='reversed')\n",
    "fig.update_layout(\n",
    "        title_font_size=42,\n",
    "        font_size=18,\n",
    "        title_font_family='Droid Sans',\n",
    "        width=1000,\n",
    "        height=600,\n",
    "        )\n",
    "fig.layout.font.family = 'Droid Sans'\n",
    "fig.layout.font.size = 12\n",
    "\n",
    "# Save Graph and Export to HTML\n",
    "# plotly.offline.plot(fig, filename='Gantt-jan2023_desk.html')\n",
    "fig.show()"
   ]
  }
 ],
 "metadata": {
  "colab": {
   "provenance": []
  },
  "kernelspec": {
   "display_name": "Python 3 (ipykernel)",
   "language": "python",
   "name": "python3"
  },
  "language_info": {
   "codemirror_mode": {
    "name": "ipython",
    "version": 3
   },
   "file_extension": ".py",
   "mimetype": "text/x-python",
   "name": "python",
   "nbconvert_exporter": "python",
   "pygments_lexer": "ipython3",
   "version": "3.11.8"
  },
  "vscode": {
   "interpreter": {
    "hash": "b0fa6594d8f4cbf19f97940f81e996739fb7646882a419484c72d19e05852a7e"
   }
  }
 },
 "nbformat": 4,
 "nbformat_minor": 4
}
